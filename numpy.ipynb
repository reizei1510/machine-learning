{
  "nbformat": 4,
  "nbformat_minor": 0,
  "metadata": {
    "colab": {
      "provenance": [],
      "authorship_tag": "ABX9TyOXeeWHJCg8WoblaC7xfyDI"
    },
    "kernelspec": {
      "name": "python3",
      "display_name": "Python 3"
    },
    "language_info": {
      "name": "python"
    }
  },
  "cells": [
    {
      "cell_type": "code",
      "execution_count": 2,
      "metadata": {
        "id": "4ur3tVBvRZKf"
      },
      "outputs": [],
      "source": [
        "import numpy as np"
      ]
    },
    {
      "cell_type": "code",
      "source": [
        "#1\n",
        "a = np.ones(10)\n",
        "a"
      ],
      "metadata": {
        "colab": {
          "base_uri": "https://localhost:8080/"
        },
        "id": "QMDhbAsUTuvk",
        "outputId": "a4b87d77-bc3b-4ce9-d131-8e39890e67a9"
      },
      "execution_count": 3,
      "outputs": [
        {
          "output_type": "execute_result",
          "data": {
            "text/plain": [
              "array([1., 1., 1., 1., 1., 1., 1., 1., 1., 1.])"
            ]
          },
          "metadata": {},
          "execution_count": 3
        }
      ]
    },
    {
      "cell_type": "code",
      "source": [
        "#2\n",
        "b = np.arange(10, 50)\n",
        "b"
      ],
      "metadata": {
        "colab": {
          "base_uri": "https://localhost:8080/"
        },
        "id": "nDcmR_ygULH4",
        "outputId": "9fd24042-ba0b-4a66-f7a5-0c988235d8bc"
      },
      "execution_count": 12,
      "outputs": [
        {
          "output_type": "execute_result",
          "data": {
            "text/plain": [
              "array([10, 11, 12, 13, 14, 15, 16, 17, 18, 19, 20, 21, 22, 23, 24, 25, 26,\n",
              "       27, 28, 29, 30, 31, 32, 33, 34, 35, 36, 37, 38, 39, 40, 41, 42, 43,\n",
              "       44, 45, 46, 47, 48, 49])"
            ]
          },
          "metadata": {},
          "execution_count": 12
        }
      ]
    },
    {
      "cell_type": "code",
      "source": [
        "#3\n",
        "c = np.random.randint(-1, 1, 10)\n",
        "print(c)\n",
        "np.nonzero(c)"
      ],
      "metadata": {
        "colab": {
          "base_uri": "https://localhost:8080/"
        },
        "id": "2CZyRe48UYX6",
        "outputId": "f53bb0e7-f022-4aa8-9594-cb393a4f4aa2"
      },
      "execution_count": 20,
      "outputs": [
        {
          "output_type": "stream",
          "name": "stdout",
          "text": [
            "[-1 -1  0  0  0  0  0 -1 -1 -1]\n"
          ]
        },
        {
          "output_type": "execute_result",
          "data": {
            "text/plain": [
              "(array([0, 1, 7, 8, 9]),)"
            ]
          },
          "metadata": {},
          "execution_count": 20
        }
      ]
    },
    {
      "cell_type": "code",
      "source": [
        "#4\n",
        "d = np.arange(0, 9).reshape(3, 3)\n",
        "d"
      ],
      "metadata": {
        "colab": {
          "base_uri": "https://localhost:8080/"
        },
        "id": "27jJMc7lVnAP",
        "outputId": "c61eabac-cd03-4e75-d0f6-ff535c8d9cb3"
      },
      "execution_count": 38,
      "outputs": [
        {
          "output_type": "execute_result",
          "data": {
            "text/plain": [
              "array([[0, 1, 2],\n",
              "       [3, 4, 5],\n",
              "       [6, 7, 8]])"
            ]
          },
          "metadata": {},
          "execution_count": 38
        }
      ]
    },
    {
      "cell_type": "code",
      "source": [
        "#5\n",
        "e = np.array([0, 1])\n",
        "np.tile(e, (8, 4))"
      ],
      "metadata": {
        "colab": {
          "base_uri": "https://localhost:8080/"
        },
        "id": "wEtCLc0cV8eI",
        "outputId": "f23ed702-e6bb-4647-b5d2-9ff611150fa5"
      },
      "execution_count": 16,
      "outputs": [
        {
          "output_type": "execute_result",
          "data": {
            "text/plain": [
              "array([[0, 1, 0, 1, 0, 1, 0, 1],\n",
              "       [0, 1, 0, 1, 0, 1, 0, 1],\n",
              "       [0, 1, 0, 1, 0, 1, 0, 1],\n",
              "       [0, 1, 0, 1, 0, 1, 0, 1],\n",
              "       [0, 1, 0, 1, 0, 1, 0, 1],\n",
              "       [0, 1, 0, 1, 0, 1, 0, 1],\n",
              "       [0, 1, 0, 1, 0, 1, 0, 1],\n",
              "       [0, 1, 0, 1, 0, 1, 0, 1]])"
            ]
          },
          "metadata": {},
          "execution_count": 16
        }
      ]
    },
    {
      "cell_type": "code",
      "source": [
        "#6\n",
        "f = np.random.rand(10)\n",
        "print(f)\n",
        "f[f.argmin()] = 0\n",
        "print(f)"
      ],
      "metadata": {
        "colab": {
          "base_uri": "https://localhost:8080/"
        },
        "id": "DoLi_es-WlSf",
        "outputId": "5326414a-a4c7-4559-fbd6-2057babe94b3"
      },
      "execution_count": 22,
      "outputs": [
        {
          "output_type": "stream",
          "name": "stdout",
          "text": [
            "[0.81208773 0.18205634 0.06040106 0.44467769 0.58258602 0.5925116\n",
            " 0.88215228 0.4360143  0.21154589 0.55086625]\n",
            "[0.81208773 0.18205634 0.         0.44467769 0.58258602 0.5925116\n",
            " 0.88215228 0.4360143  0.21154589 0.55086625]\n"
          ]
        }
      ]
    },
    {
      "cell_type": "code",
      "source": [
        "#7\n",
        "j = np.random.randint(0, 10, 10)\n",
        "print(j)\n",
        "np.bincount(j).argmax()"
      ],
      "metadata": {
        "colab": {
          "base_uri": "https://localhost:8080/"
        },
        "id": "JmTQVkcOXFTC",
        "outputId": "e1dd5f10-280f-4608-b913-d62e00e5704f"
      },
      "execution_count": 26,
      "outputs": [
        {
          "output_type": "stream",
          "name": "stdout",
          "text": [
            "[3 1 5 9 7 8 4 0 3 4]\n"
          ]
        },
        {
          "output_type": "execute_result",
          "data": {
            "text/plain": [
              "3"
            ]
          },
          "metadata": {},
          "execution_count": 26
        }
      ]
    },
    {
      "cell_type": "code",
      "source": [
        "#8\n",
        "h = np.random.randint(0, 5, 9).reshape(3, 3)\n",
        "print(h)\n",
        "mean = np.mean(h, axis=1).reshape(3, 1)\n",
        "h - mean"
      ],
      "metadata": {
        "colab": {
          "base_uri": "https://localhost:8080/"
        },
        "id": "OPNjBRPtYxg2",
        "outputId": "d7862cdd-6c7e-4ff5-ce66-76e724fe871f"
      },
      "execution_count": 39,
      "outputs": [
        {
          "output_type": "stream",
          "name": "stdout",
          "text": [
            "[[2 2 4]\n",
            " [1 0 4]\n",
            " [3 4 4]]\n"
          ]
        },
        {
          "output_type": "execute_result",
          "data": {
            "text/plain": [
              "array([[-0.66666667, -0.66666667,  1.33333333],\n",
              "       [-0.66666667, -1.66666667,  2.33333333],\n",
              "       [-0.66666667,  0.33333333,  0.33333333]])"
            ]
          },
          "metadata": {},
          "execution_count": 39
        }
      ]
    },
    {
      "cell_type": "code",
      "source": [
        "#9\n",
        "i = np.random.randint(0, 5, 25).reshape(5, 5)\n",
        "print(i)\n",
        "i[[2, 4]] = i[[4, 2]]\n",
        "print(i)\n"
      ],
      "metadata": {
        "colab": {
          "base_uri": "https://localhost:8080/"
        },
        "id": "9yatgDN7bGT3",
        "outputId": "6b863999-60d8-4713-e0f2-d7477cfe09be"
      },
      "execution_count": 42,
      "outputs": [
        {
          "output_type": "stream",
          "name": "stdout",
          "text": [
            "[[2 4 1 3 0]\n",
            " [3 3 2 1 0]\n",
            " [1 3 0 1 3]\n",
            " [2 0 4 0 2]\n",
            " [1 1 1 0 4]]\n",
            "[[2 4 1 3 0]\n",
            " [3 3 2 1 0]\n",
            " [1 1 1 0 4]\n",
            " [2 0 4 0 2]\n",
            " [1 3 0 1 3]]\n"
          ]
        }
      ]
    },
    {
      "cell_type": "code",
      "source": [
        "#10\n",
        "f = np.random.randint(0, 10, 10)\n",
        "print(f)\n",
        "np.unique(f)[3:]"
      ],
      "metadata": {
        "colab": {
          "base_uri": "https://localhost:8080/"
        },
        "id": "TbxTNsqpbtBG",
        "outputId": "1760219a-3409-48fb-efae-4fca2042b45a"
      },
      "execution_count": 49,
      "outputs": [
        {
          "output_type": "stream",
          "name": "stdout",
          "text": [
            "[4 6 3 6 1 2 9 9 2 6]\n"
          ]
        },
        {
          "output_type": "execute_result",
          "data": {
            "text/plain": [
              "array([4, 6, 9])"
            ]
          },
          "metadata": {},
          "execution_count": 49
        }
      ]
    },
    {
      "cell_type": "code",
      "source": [
        "#11\n",
        "#g = np.array([np.arange(1, 6)] * 5)\n",
        "\n",
        "g = np.arange(1, 6)\n",
        "np.tile(g, (5, 1))"
      ],
      "metadata": {
        "colab": {
          "base_uri": "https://localhost:8080/"
        },
        "id": "WZyJlMM2ckUe",
        "outputId": "6c0ad36f-9065-43bb-e01a-c73b4c4aa4b3"
      },
      "execution_count": 54,
      "outputs": [
        {
          "output_type": "execute_result",
          "data": {
            "text/plain": [
              "array([[1, 2, 3, 4, 5],\n",
              "       [1, 2, 3, 4, 5],\n",
              "       [1, 2, 3, 4, 5],\n",
              "       [1, 2, 3, 4, 5],\n",
              "       [1, 2, 3, 4, 5]])"
            ]
          },
          "metadata": {},
          "execution_count": 54
        }
      ]
    },
    {
      "cell_type": "code",
      "source": [
        "#12\n",
        "k = np.random.randint(-9, 10, 16).reshape(4, 4)\n",
        "l = np.random.randint(-9, 10, 16).reshape(4, 4)\n",
        "mult = np.dot(k, l)\n",
        "print(mult)\n",
        "print(mult[np.diag_indices(4)])\n",
        "print(np.fliplr(mult)[np.diag_indices(4)])"
      ],
      "metadata": {
        "colab": {
          "base_uri": "https://localhost:8080/"
        },
        "id": "xMtXSqCodU88",
        "outputId": "8b3a7884-d356-4116-ea33-236743923456"
      },
      "execution_count": 61,
      "outputs": [
        {
          "output_type": "stream",
          "name": "stdout",
          "text": [
            "[[  1  63 -64  47]\n",
            " [-16 -39 -59  49]\n",
            " [-12  16 -68  56]\n",
            " [ 31  -9 -10  71]]\n",
            "[  1 -39 -68  71]\n",
            "[ 47 -59  16  31]\n"
          ]
        }
      ]
    }
  ]
}